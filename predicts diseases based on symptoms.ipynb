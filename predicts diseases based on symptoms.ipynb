{
 "cells": [
  {
   "cell_type": "markdown",
   "id": "3d79ecbe-53c0-4bab-93d9-caf42a063e57",
   "metadata": {},
   "source": []
  },
  {
   "cell_type": "code",
   "execution_count": 8,
   "id": "e571261d-a017-4a9d-88de-9577781178c5",
   "metadata": {},
   "outputs": [
    {
     "name": "stdout",
     "output_type": "stream",
     "text": [
      "   Fever  Cough  Headache  Fatigue  Disease\n",
      "0      1      1         0        1      Flu\n",
      "1      1      0         1        1      Flu\n",
      "2      0      1         1        0     Cold\n",
      "3      0      0         1        0  Healthy\n",
      "4      1      1         0        1      Flu\n",
      "5      0      1         1        0     Cold\n",
      "6      1      0         1        0      Flu\n",
      "7      0      0         0        0  Healthy\n"
     ]
    }
   ],
   "source": [
    "import pandas as pd\n",
    "\n",
    "# Create a simple dataset\n",
    "data = {\n",
    "    'Fever': [1, 1, 0, 0, 1, 0, 1, 0],\n",
    "    'Cough': [1, 0, 1, 0, 1, 1, 0, 0],\n",
    "    'Headache': [0, 1, 1, 1, 0, 1, 1, 0],\n",
    "    'Fatigue': [1, 1, 0, 0, 1, 0, 0, 0],\n",
    "    'Disease': ['Flu', 'Flu', 'Cold', 'Healthy', 'Flu', 'Cold', 'Flu', 'Healthy']\n",
    "}\n",
    "\n",
    "df = pd.DataFrame(data)\n",
    "print(df)\n"
   ]
  },
  {
   "cell_type": "code",
   "execution_count": 9,
   "id": "fd07fa05-21cc-439e-a773-fdd586049f90",
   "metadata": {},
   "outputs": [
    {
     "name": "stdout",
     "output_type": "stream",
     "text": [
      "Original labels: ['Flu', 'Flu', 'Cold', 'Healthy', 'Flu', 'Cold', 'Flu', 'Healthy']\n",
      "Encoded labels: [np.int64(1), np.int64(1), np.int64(0), np.int64(2), np.int64(1), np.int64(0), np.int64(1), np.int64(2)]\n"
     ]
    }
   ],
   "source": [
    "from sklearn.preprocessing import LabelEncoder\n",
    "\n",
    "X = df.drop('Disease', axis=1)  # Features (symptoms)\n",
    "y = df['Disease']               # Labels (diseases)\n",
    "\n",
    "le = LabelEncoder()\n",
    "y_encoded = le.fit_transform(y)\n",
    "\n",
    "print(\"Original labels:\", list(y))\n",
    "print(\"Encoded labels:\", list(y_encoded))\n"
   ]
  },
  {
   "cell_type": "code",
   "execution_count": 10,
   "id": "462167d3-c6f8-4a98-85bd-175257f86127",
   "metadata": {},
   "outputs": [
    {
     "name": "stdout",
     "output_type": "stream",
     "text": [
      "Model trained!\n"
     ]
    }
   ],
   "source": [
    "from sklearn.ensemble import RandomForestClassifier\n",
    "\n",
    "model = RandomForestClassifier(n_estimators=10, random_state=42)\n",
    "model.fit(X, y_encoded)\n",
    "\n",
    "print(\"Model trained!\")\n"
   ]
  },
  {
   "cell_type": "code",
   "execution_count": 13,
   "id": "eabced25-7adb-4434-a032-e4f3a5bdd995",
   "metadata": {},
   "outputs": [
    {
     "name": "stdout",
     "output_type": "stream",
     "text": [
      "Predicted disease for new patient: Flu\n"
     ]
    }
   ],
   "source": [
    "import pandas as pd\n",
    "\n",
    "# Create a DataFrame for new patient with the same columns as training data\n",
    "new_patient = pd.DataFrame([[1, 0, 1, 1]], columns=X.columns)\n",
    "\n",
    "# Predict\n",
    "predicted_label = model.predict(new_patient)\n",
    "\n",
    "# Convert label to disease name\n",
    "predicted_disease = le.inverse_transform(predicted_label)\n",
    "\n",
    "print(\"Predicted disease for new patient:\", predicted_disease[0])\n"
   ]
  },
  {
   "cell_type": "code",
   "execution_count": 14,
   "id": "8185d7a2-fd2b-4705-9659-fcc2b4847193",
   "metadata": {},
   "outputs": [
    {
     "name": "stdout",
     "output_type": "stream",
     "text": [
      "Model accuracy on training data: 1.0\n"
     ]
    }
   ],
   "source": [
    "from sklearn.metrics import accuracy_score\n",
    "\n",
    "# Predict on the training data itself\n",
    "y_pred = model.predict(X)\n",
    "\n",
    "# Calculate accuracy (percentage of correct predictions)\n",
    "accuracy = accuracy_score(y_encoded, y_pred)\n",
    "print(\"Model accuracy on training data:\", accuracy)\n"
   ]
  },
  {
   "cell_type": "code",
   "execution_count": null,
   "id": "5937888d-1ade-4e33-925d-fa76fdc21c7d",
   "metadata": {},
   "outputs": [],
   "source": []
  }
 ],
 "metadata": {
  "kernelspec": {
   "display_name": "Python 3 (ipykernel)",
   "language": "python",
   "name": "python3"
  },
  "language_info": {
   "codemirror_mode": {
    "name": "ipython",
    "version": 3
   },
   "file_extension": ".py",
   "mimetype": "text/x-python",
   "name": "python",
   "nbconvert_exporter": "python",
   "pygments_lexer": "ipython3",
   "version": "3.13.5"
  }
 },
 "nbformat": 4,
 "nbformat_minor": 5
}
